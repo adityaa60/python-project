{
 "cells": [
  {
   "cell_type": "code",
   "execution_count": 3,
   "metadata": {},
   "outputs": [
    {
     "name": "stdout",
     "output_type": "stream",
     "text": [
      "Dear \u001b[1;32mARYAN\u001b[0m,\n",
      "In the journey of love, age is just a number and destiny awaits. Somewhere out there, \u001b[1;32mUJJWAL\u001b[0m is waiting for you, her to walk into your life.\n",
      "She may be the one who shares your dreams, laughs with you under the stars, and holds your hand through every twist of life.\n",
      "May your paths cross when the time is right, and when your eyes meet, may you know \u001b[1;32mUJJWAL\u001b[0m is your heart's missing piece.\n",
      "\n",
      "Best wishes on your beautiful journey ahead!\n"
     ]
    }
   ],
   "source": [
    "import pandas as pd\n",
    "import numpy as np\n",
    "\n",
    "def special_name(name,gender,spouse_name):\n",
    "    data =pd.read_csv('D:\\\\IP\\\\project\\\\specialnames.csv')\n",
    "    # Input name to search\n",
    "    name_to_search =name.lower() \n",
    "    \n",
    "    # Search for the name in the dataframe\n",
    "    result = data[data[gender.lower()] == name_to_search]\n",
    "    \n",
    "    # Display the result\n",
    "    if result.empty:\n",
    "        return spouse_name\n",
    "    else:\n",
    "        if gender.lower() == 'male':\n",
    "            return data.loc[data['male'] == name.lower(), 'female'].values[0]\n",
    "        else:\n",
    "            return data.loc[data['female'] == name.lower(), 'male'].values[0]\n",
    "        \n",
    "# Function to suggest a romantic name based on gender\n",
    "def spouse_name(name, age, gender):\n",
    "    # Load the data\n",
    "    male_names_df = pd.read_csv('D:\\\\IP\\\\project\\\\indian_male_names.csv')\n",
    "    female_names_df = pd.read_csv('D:\\\\IP\\\\project\\\\indian_female_names.csv')\n",
    "    \n",
    "    # Extract the names as lists\n",
    "    male_names = male_names_df['Name'].tolist()\n",
    "    female_names = female_names_df['Name'].tolist()\n",
    "    \n",
    "    # Pick a name randomly based on gender\n",
    "    if gender.lower() == 'male':\n",
    "        spouse_name = np.random.choice(female_names)  # Choose randomly from female names\n",
    "        spouse_gender = 'her'\n",
    "        pronoun = \"She\"\n",
    "    else:\n",
    "        spouse_name = np.random.choice(male_names)  # Choose randomly from male names\n",
    "        spouse_gender = 'him'\n",
    "        pronoun = \"He\"\n",
    "    \n",
    "    #ANSI escape codes to highlights name\n",
    "    highlight_start = '\\033[1;32m'  # Bold Green\n",
    "    highlight_end = '\\033[0m'       # Reset to default\n",
    "    \n",
    "    # Add a romantic touch to the message\n",
    "    message = f\"Dear {highlight_start}{name.upper()}{highlight_end},\\n\"\n",
    "    message += f\"In the journey of love, age is just a number and destiny awaits. Somewhere out there, {highlight_start}{special_name(name,gender,spouse_name).upper()}{highlight_end} is waiting for you, {spouse_gender} to walk into your life.\\n\"\n",
    "    message += f\"{pronoun} may be the one who shares your dreams, laughs with you under the stars, and holds your hand through every twist of life.\\n\"\n",
    "    message += f\"May your paths cross when the time is right, and when your eyes meet, may you know {highlight_start}{special_name(name,gender,spouse_name).upper()}{highlight_end} is your heart's missing piece.\\n\\n\"\n",
    "    message += f\"Best wishes on your beautiful journey ahead!\"\n",
    "    \n",
    "    return message\n",
    "\n",
    "# Input from the user\n",
    "user_name = input(\"Enter your name: \")\n",
    "user_age = int(input(\"Enter your age: \"))\n",
    "user_gender = input(\"Enter your gender (male/female): \")\n",
    "\n",
    "# Suggest a romantic spouse name\n",
    "future_spouse = spouse_name(user_name, user_age, user_gender)\n",
    "print(future_spouse)\n"
   ]
  },
  {
   "cell_type": "code",
   "execution_count": null,
   "metadata": {},
   "outputs": [],
   "source": []
  }
 ],
 "metadata": {
  "kernelspec": {
   "display_name": "base",
   "language": "python",
   "name": "python3"
  },
  "language_info": {
   "codemirror_mode": {
    "name": "ipython",
    "version": 3
   },
   "file_extension": ".py",
   "mimetype": "text/x-python",
   "name": "python",
   "nbconvert_exporter": "python",
   "pygments_lexer": "ipython3",
   "version": "3.12.4"
  }
 },
 "nbformat": 4,
 "nbformat_minor": 2
}
